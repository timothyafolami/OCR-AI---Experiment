{
 "cells": [
  {
   "cell_type": "code",
   "execution_count": 2,
   "metadata": {},
   "outputs": [
    {
     "name": "stdout",
     "output_type": "stream",
     "text": [
      "Collecting mistralai\n",
      "  Using cached mistralai-1.8.2-py3-none-any.whl.metadata (33 kB)\n",
      "Collecting eval-type-backport>=0.2.0 (from mistralai)\n",
      "  Using cached eval_type_backport-0.2.2-py3-none-any.whl.metadata (2.2 kB)\n",
      "Requirement already satisfied: httpx>=0.28.1 in /opt/anaconda3/envs/betzflip-env/lib/python3.12/site-packages (from mistralai) (0.28.1)\n",
      "Requirement already satisfied: pydantic>=2.10.3 in /opt/anaconda3/envs/betzflip-env/lib/python3.12/site-packages (from mistralai) (2.10.6)\n",
      "Requirement already satisfied: python-dateutil>=2.8.2 in /opt/anaconda3/envs/betzflip-env/lib/python3.12/site-packages (from mistralai) (2.9.0.post0)\n",
      "Requirement already satisfied: typing-inspection>=0.4.0 in /opt/anaconda3/envs/betzflip-env/lib/python3.12/site-packages (from mistralai) (0.4.0)\n",
      "Requirement already satisfied: anyio in /opt/anaconda3/envs/betzflip-env/lib/python3.12/site-packages (from httpx>=0.28.1->mistralai) (4.9.0)\n",
      "Requirement already satisfied: certifi in /opt/anaconda3/envs/betzflip-env/lib/python3.12/site-packages (from httpx>=0.28.1->mistralai) (2025.4.26)\n",
      "Requirement already satisfied: httpcore==1.* in /opt/anaconda3/envs/betzflip-env/lib/python3.12/site-packages (from httpx>=0.28.1->mistralai) (1.0.7)\n",
      "Requirement already satisfied: idna in /opt/anaconda3/envs/betzflip-env/lib/python3.12/site-packages (from httpx>=0.28.1->mistralai) (3.10)\n",
      "Requirement already satisfied: h11<0.15,>=0.13 in /opt/anaconda3/envs/betzflip-env/lib/python3.12/site-packages (from httpcore==1.*->httpx>=0.28.1->mistralai) (0.14.0)\n",
      "Requirement already satisfied: annotated-types>=0.6.0 in /opt/anaconda3/envs/betzflip-env/lib/python3.12/site-packages (from pydantic>=2.10.3->mistralai) (0.7.0)\n",
      "Requirement already satisfied: pydantic-core==2.27.2 in /opt/anaconda3/envs/betzflip-env/lib/python3.12/site-packages (from pydantic>=2.10.3->mistralai) (2.27.2)\n",
      "Requirement already satisfied: typing-extensions>=4.12.2 in /opt/anaconda3/envs/betzflip-env/lib/python3.12/site-packages (from pydantic>=2.10.3->mistralai) (4.13.2)\n",
      "Requirement already satisfied: six>=1.5 in /opt/anaconda3/envs/betzflip-env/lib/python3.12/site-packages (from python-dateutil>=2.8.2->mistralai) (1.17.0)\n",
      "Requirement already satisfied: sniffio>=1.1 in /opt/anaconda3/envs/betzflip-env/lib/python3.12/site-packages (from anyio->httpx>=0.28.1->mistralai) (1.3.1)\n",
      "Using cached mistralai-1.8.2-py3-none-any.whl (374 kB)\n",
      "Using cached eval_type_backport-0.2.2-py3-none-any.whl (5.8 kB)\n",
      "Installing collected packages: eval-type-backport, mistralai\n",
      "Successfully installed eval-type-backport-0.2.2 mistralai-1.8.2\n"
     ]
    }
   ],
   "source": [
    "!pip install mistralai"
   ]
  },
  {
   "cell_type": "code",
   "execution_count": 3,
   "metadata": {},
   "outputs": [
    {
     "data": {
      "text/plain": [
       "True"
      ]
     },
     "execution_count": 3,
     "metadata": {},
     "output_type": "execute_result"
    }
   ],
   "source": [
    "from mistralai import Mistral\n",
    "import os\n",
    "from dotenv import load_dotenv\n",
    "\n",
    "load_dotenv()"
   ]
  },
  {
   "cell_type": "code",
   "execution_count": 4,
   "metadata": {},
   "outputs": [],
   "source": [
    "api_key = os.environ[\"MISTRAL_API_KEY\"]\n",
    "\n",
    "client = Mistral(api_key=api_key)"
   ]
  },
  {
   "cell_type": "code",
   "execution_count": 5,
   "metadata": {},
   "outputs": [
    {
     "name": "stdout",
     "output_type": "stream",
     "text": [
      "id='9e9c1fb6-2296-4bce-bd29-5235ee684906' object='file' size_bytes=256219 created_at=1750302212 filename='AASZX2206288.pdf' purpose='ocr' sample_type='ocr_input' source='upload' num_lines=0\n"
     ]
    }
   ],
   "source": [
    "uploaded_pdf = client.files.upload(\n",
    "    file={\n",
    "        \"file_name\": \"AASZX2206288.pdf\",\n",
    "        \"content\": open(\"AASZX2206288.pdf\", \"rb\"),\n",
    "    },\n",
    "    purpose=\"ocr\"\n",
    ")  \n",
    "\n",
    "print(uploaded_pdf)"
   ]
  },
  {
   "cell_type": "code",
   "execution_count": 6,
   "metadata": {},
   "outputs": [],
   "source": [
    "retrieved_file = client.files.retrieve(file_id=uploaded_pdf.id)"
   ]
  },
  {
   "cell_type": "code",
   "execution_count": 8,
   "metadata": {},
   "outputs": [],
   "source": [
    "signed_url = client.files.get_signed_url(file_id=uploaded_pdf.id)"
   ]
  },
  {
   "cell_type": "code",
   "execution_count": 10,
   "metadata": {},
   "outputs": [],
   "source": [
    "ocr_response = client.ocr.process(\n",
    "    model=\"mistral-ocr-latest\",\n",
    "    document={\n",
    "        \"type\": \"document_url\",\n",
    "        \"document_url\": signed_url.url,\n",
    "    },\n",
    "    include_image_base64=True\n",
    ")"
   ]
  },
  {
   "cell_type": "code",
   "execution_count": 11,
   "metadata": {},
   "outputs": [
    {
     "data": {
      "text/plain": [
       "OCRResponse(pages=[OCRPageObject(index=0, markdown=\"# 921-41740101\\n\\n**AASZX2206288**\\n\\n**SHANGHAI TONGRUO CLOTHING CO., LTD**\\n\\n**BUILDING 9, NO.199, CHANGJIAN ROAD, BAOSHAN**\\n\\n**DISTRICT, SHANGHAI, CHINA**\\n\\n**CHRISTINE HUANG 13501692262**\\n\\n**AWET**\\n\\nAs the Carrier\\n\\nCopies 1, 2 and 3 of this Air Waybill are originals and have the same validity.\\n\\n**Consignee's Name and Address**\\n\\n**TA3 SWIM (FUTURE WOW, INC)**\\n\\n**2029 N BERENDO ST**\\n\\n**LOS ANGELES, CA 90027**\\n\\n**Consignee's Account Number**\\n\\n**A13**\\n\\n**2029 N BERENDO ST**\\n\\n**LOS ANGELES, CA 90027**\\n\\n**A13**\\n\\n**2029 N BERENDO ST**\\n\\n**LOS ANGELES, CA 90027**\\n\\n**Consignee's Account Number**\\n\\n**A13**\\n\\n**2029 N BERENDO ST**\\n\\n**LOS ANGELES, CA 90027**\\n\\n**Accounting Information**\\n\\n**FREIGHT COLLECT**\\n\\n|  IATA Code | Account No.  |\\n| --- | --- |\\n|  |   |\\n\\n**Place/Airport of Departure and requested Routing**\\n\\n**SHENZHEN, CHINA**\\n\\n|  IATA Code | Routing and Destination  |\\n| --- | --- |\\n|  037001 | 2022 - 07 - 04  |\\n\\n**Place/Airport of Destination**\\n\\n**Fight/Date**\\n\\n**Fight/Date**\\n\\n**Fight/Date**\\n\\n**A13**\\n\\n**2022 - 07 - 04**\\n\\n**A13**\\n\\n**2022 - 07 - 04**\\n\\n**A13**\\n\\n**2022 - 07 - 04**\\n\\n**A13**\\n\\n**2022 - 07 - 04**\\n\\n**A13**\\n\\n**2022 - 07 - 04**\\n\\n**A13**\\n\\n**2022 - 07 - 04**\\n\\n**A13**\\n\\n**2022 - 07 - 04**\\n\\n**A13**\\n\\n**2022 - 07 - 04**\\n\\n**A13**\\n\\n**2022 - 07 - 04**\\n\\n**A13**\\n\\n**2022 - 07 - 04**\\n\\n**A13**\\n\\n**2022 - 07 - 04**\\n\\n**A13**\\n\\n**2022 - 07 - 04**\\n\\n**A13**\\n\\n**2022 - 07 - 04**\\n\\n**A13**\\n\\n**2022 - 07 - 04**\\n\\n**A13**\\n\\n**2022 - 07 - 04**\\n\\n**A13**\\n\\n**2022 - 07 - 04**\\n\\n**A13**\\n\\n**2022 - 07 - 04**\\n\\n**A13**\\n\\n**2022 - 07 - 04**\\n\\n**A13**\\n\\n**2022 - 07 - 04**\\n\\n**A13**\\n\\n**2022 - 07 - 04**\\n\\n**A13**\\n\\n**2022 - 07 - 04**\\n\\n**A13**\\n\\n**2022 - 07 - 04**\\n\\n**A13**\\n\\n**2022 - 07 - 04**\\n\\n**A13**\\n\\n**2022 - 07 - 04**\\n\\n**A13**\\n\\n**2022 - 07 - 04**\\n\\n**A13**\\n\\n**2022 - 07 - 04**\\n\\n**A13**\\n\\n**2022 - 07 - 04**\\n\\n**A13**\\n\\n**2022 - 07 - 04**\\n\\n**A13**\\n\\n**2022 - 07 - 04**\\n\\n**A13**\\n\\n**2022 - 07 - 04**\\n\\n**A13**\\n\\n**2022 - 07 - 04**\\n\\n\", images=[], dimensions=OCRPageDimensions(dpi=200, height=2339, width=1654))], model='mistral-ocr-2505-completion', usage_info=OCRUsageInfo(pages_processed=1, doc_size_bytes=256219), document_annotation=None)"
      ]
     },
     "execution_count": 11,
     "metadata": {},
     "output_type": "execute_result"
    }
   ],
   "source": [
    "ocr_response"
   ]
  },
  {
   "cell_type": "code",
   "execution_count": 12,
   "metadata": {},
   "outputs": [
    {
     "name": "stdout",
     "output_type": "stream",
     "text": [
      "pages=[OCRPageObject(index=0, markdown=\"# 921-41740101\\n\\n**AASZX2206288**\\n\\n**SHANGHAI TONGRUO CLOTHING CO., LTD**\\n\\n**BUILDING 9, NO.199, CHANGJIAN ROAD, BAOSHAN**\\n\\n**DISTRICT, SHANGHAI, CHINA**\\n\\n**CHRISTINE HUANG 13501692262**\\n\\n**AWET**\\n\\nAs the Carrier\\n\\nCopies 1, 2 and 3 of this Air Waybill are originals and have the same validity.\\n\\n**Consignee's Name and Address**\\n\\n**TA3 SWIM (FUTURE WOW, INC)**\\n\\n**2029 N BERENDO ST**\\n\\n**LOS ANGELES, CA 90027**\\n\\n**Consignee's Account Number**\\n\\n**A13**\\n\\n**2029 N BERENDO ST**\\n\\n**LOS ANGELES, CA 90027**\\n\\n**A13**\\n\\n**2029 N BERENDO ST**\\n\\n**LOS ANGELES, CA 90027**\\n\\n**Consignee's Account Number**\\n\\n**A13**\\n\\n**2029 N BERENDO ST**\\n\\n**LOS ANGELES, CA 90027**\\n\\n**Accounting Information**\\n\\n**FREIGHT COLLECT**\\n\\n|  IATA Code | Account No.  |\\n| --- | --- |\\n|  |   |\\n\\n**Place/Airport of Departure and requested Routing**\\n\\n**SHENZHEN, CHINA**\\n\\n|  IATA Code | Routing and Destination  |\\n| --- | --- |\\n|  037001 | 2022 - 07 - 04  |\\n\\n**Place/Airport of Destination**\\n\\n**Fight/Date**\\n\\n**Fight/Date**\\n\\n**Fight/Date**\\n\\n**A13**\\n\\n**2022 - 07 - 04**\\n\\n**A13**\\n\\n**2022 - 07 - 04**\\n\\n**A13**\\n\\n**2022 - 07 - 04**\\n\\n**A13**\\n\\n**2022 - 07 - 04**\\n\\n**A13**\\n\\n**2022 - 07 - 04**\\n\\n**A13**\\n\\n**2022 - 07 - 04**\\n\\n**A13**\\n\\n**2022 - 07 - 04**\\n\\n**A13**\\n\\n**2022 - 07 - 04**\\n\\n**A13**\\n\\n**2022 - 07 - 04**\\n\\n**A13**\\n\\n**2022 - 07 - 04**\\n\\n**A13**\\n\\n**2022 - 07 - 04**\\n\\n**A13**\\n\\n**2022 - 07 - 04**\\n\\n**A13**\\n\\n**2022 - 07 - 04**\\n\\n**A13**\\n\\n**2022 - 07 - 04**\\n\\n**A13**\\n\\n**2022 - 07 - 04**\\n\\n**A13**\\n\\n**2022 - 07 - 04**\\n\\n**A13**\\n\\n**2022 - 07 - 04**\\n\\n**A13**\\n\\n**2022 - 07 - 04**\\n\\n**A13**\\n\\n**2022 - 07 - 04**\\n\\n**A13**\\n\\n**2022 - 07 - 04**\\n\\n**A13**\\n\\n**2022 - 07 - 04**\\n\\n**A13**\\n\\n**2022 - 07 - 04**\\n\\n**A13**\\n\\n**2022 - 07 - 04**\\n\\n**A13**\\n\\n**2022 - 07 - 04**\\n\\n**A13**\\n\\n**2022 - 07 - 04**\\n\\n**A13**\\n\\n**2022 - 07 - 04**\\n\\n**A13**\\n\\n**2022 - 07 - 04**\\n\\n**A13**\\n\\n**2022 - 07 - 04**\\n\\n**A13**\\n\\n**2022 - 07 - 04**\\n\\n**A13**\\n\\n**2022 - 07 - 04**\\n\\n**A13**\\n\\n**2022 - 07 - 04**\\n\\n\", images=[], dimensions=OCRPageDimensions(dpi=200, height=2339, width=1654))] model='mistral-ocr-2505-completion' usage_info=OCRUsageInfo(pages_processed=1, doc_size_bytes=256219) document_annotation=None\n"
     ]
    }
   ],
   "source": [
    "print(ocr_response)"
   ]
  },
  {
   "cell_type": "markdown",
   "metadata": {},
   "source": [
    "pages=[OCRPageObject(index=0, markdown=\"# 921-41740101\\n\\n**AASZX2206288**\\n\\n**SHANGHAI TONGRUO CLOTHING CO., LTD**\\n\\n**BUILDING 9, NO.199, CHANGJIAN ROAD, BAOSHAN**\\n\\n**DISTRICT, SHANGHAI, CHINA**\\n\\n**CHRISTINE HUANG 13501692262**\\n\\n**AWET**\\n\\nAs the Carrier\\n\\nCopies 1, 2 and 3 of this Air Waybill are originals and have the same validity.\\n\\n**Consignee's Name and Address**\\n\\n**TA3 SWIM (FUTURE WOW, INC)**\\n\\n**2029 N BERENDO ST**\\n\\n**LOS ANGELES, CA 90027**\\n\\n**Consignee's Account Number**\\n\\n**A13**\\n\\n**2029 N BERENDO ST**\\n\\n**LOS ANGELES, CA 90027**\\n\\n**A13**\\n\\n**2029 N BERENDO ST**\\n\\n**LOS ANGELES, CA 90027**\\n\\n**Consignee's Account Number**\\n\\n**A13**\\n\\n**2029 N BERENDO ST**\\n\\n**LOS ANGELES, CA 90027**\\n\\n**Accounting Information**\\n\\n**FREIGHT COLLECT**\\n\\n|  IATA Code | Account No.  |\\n| --- | --- |\\n|  |   |\\n\\n**Place/Airport of Departure and requested Routing**\\n\\n**SHENZHEN, CHINA**\\n\\n|  IATA Code | Routing and Destination  |\\n| --- | --- |\\n|  037001 | 2022 - 07 - 04  |\\n\\n**Place/Airport of Destination**\\n\\n**Fight/Date**\\n\\n**Fight/Date**\\n\\n**Fight/Date**\\n\\n**A13**\\n\\n**2022 - 07 - 04**\\n\\n**A13**\\n\\n**2022 - 07 - 04**\\n\\n**A13**\\n\\n**2022 - 07 - 04**\\n\\n**A13**\\n\\n**2022 - 07 - 04**\\n\\n**A13**\\n\\n**2022 - 07 - 04**\\n\\n**A13**\\n\\n**2022 - 07 - 04**\\n\\n**A13**\\n\\n**2022 - 07 - 04**\\n\\n**A13**\\n\\n**2022 - 07 - 04**\\n\\n**A13**\\n\\n**2022 - 07 - 04**\\n\\n**A13**\\n\\n**2022 - 07 - 04**\\n\\n**A13**\\n\\n**2022 - 07 - 04**\\n\\n**A13**\\n\\n**2022 - 07 - 04**\\n\\n**A13**\\n\\n**2022 - 07 - 04**\\n\\n**A13**\\n\\n**2022 - 07 - 04**\\n\\n**A13**\\n\\n**2022 - 07 - 04**\\n\\n**A13**\\n\\n**2022 - 07 - 04**\\n\\n**A13**\\n\\n**2022 - 07 - 04**\\n\\n**A13**\\n\\n**2022 - 07 - 04**\\n\\n**A13**\\n\\n**2022 - 07 - 04**\\n\\n**A13**\\n\\n**2022 - 07 - 04**\\n\\n**A13**\\n\\n**2022 - 07 - 04**\\n\\n**A13**\\n\\n**2022 - 07 - 04**\\n\\n**A13**\\n\\n**2022 - 07 - 04**\\n\\n**A13**\\n\\n**2022 - 07 - 04**\\n\\n**A13**\\n\\n**2022 - 07 - 04**\\n\\n**A13**\\n\\n**2022 - 07 - 04**\\n\\n**A13**\\n\\n**2022 - 07 - 04**\\n\\n**A13**\\n\\n**2022 - 07 - 04**\\n\\n**A13**\\n\\n**2022 - 07 - 04**\\n\\n**A13**\\n\\n**2022 - 07 - 04**\\n\\n**A13**\\n\\n**2022 - 07 - 04**\\n\\n\", images=[], dimensions=OCRPageDimensions(dpi=200, height=2339, width=1654))] model='mistral-ocr-2505-completion' usage_info=OCRUsageInfo(pages_processed=1, doc_size_bytes=256219) document_annotation=None"
   ]
  },
  {
   "cell_type": "code",
   "execution_count": null,
   "metadata": {},
   "outputs": [],
   "source": []
  }
 ],
 "metadata": {
  "kernelspec": {
   "display_name": "betzflip-env",
   "language": "python",
   "name": "python3"
  },
  "language_info": {
   "codemirror_mode": {
    "name": "ipython",
    "version": 3
   },
   "file_extension": ".py",
   "mimetype": "text/x-python",
   "name": "python",
   "nbconvert_exporter": "python",
   "pygments_lexer": "ipython3",
   "version": "3.12.9"
  }
 },
 "nbformat": 4,
 "nbformat_minor": 2
}
